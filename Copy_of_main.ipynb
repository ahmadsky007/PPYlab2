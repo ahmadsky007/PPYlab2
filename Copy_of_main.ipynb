{
  "nbformat": 4,
  "nbformat_minor": 0,
  "metadata": {
    "colab": {
      "provenance": [],
      "include_colab_link": true
    },
    "kernelspec": {
      "name": "python3",
      "display_name": "Python 3"
    },
    "language_info": {
      "name": "python"
    }
  },
  "cells": [
    {
      "cell_type": "markdown",
      "metadata": {
        "id": "view-in-github",
        "colab_type": "text"
      },
      "source": [
        "<a href=\"https://colab.research.google.com/github/ahmadsky007/PPYlab2/blob/Lab2-group21-s25960/Copy_of_main.ipynb\" target=\"_parent\"><img src=\"https://colab.research.google.com/assets/colab-badge.svg\" alt=\"Open In Colab\"/></a>"
      ]
    },
    {
      "cell_type": "markdown",
      "source": [
        "Warning:\n",
        "\n",
        "After each exercise from now on, do a git commit and write in a message what you did."
      ],
      "metadata": {
        "id": "vWgiVDOhNaoM"
      }
    },
    {
      "cell_type": "markdown",
      "source": [
        "3.\n",
        "Write a Python program that takes input from the user to create a list of integers and then performs the following operations:\n",
        "\n",
        "  a. Input: Ask the user to enter a series of space-separated integers.\n",
        "\n",
        "  b. Convert Input: Convert the input string into a list of integers.\n",
        "  \n",
        "  c. Sorting: Sort the list in ascending order.\n",
        "\n",
        "  example:\n",
        "  ```\n",
        "  Enter a series of space-separated integers: 5 2 8 1 9\n",
        "\n",
        "  Sorted list: [1, 2, 5, 8, 9]\n",
        "  ```\n"
      ],
      "metadata": {
        "id": "PspxMdWBgq0E"
      }
    },
    {
      "cell_type": "code",
      "source": [
        "# Task 3: List Creation and Sorting\n",
        "\n",
        "# Input: Asking the user for a series of space-separated integers.\n",
        "input_str = input(\"Enter a series of space-separated integers: \")\n",
        "\n",
        "# Convert Input: Converting the input string into a list of integers.\n",
        "numbers_list = [int(x) for x in input_str.split()]\n",
        "\n",
        "# Sorting: Sorting the list in ascending order.\n",
        "numbers_list.sort()\n",
        "\n",
        "# Print Output: Printing the sorted list.\n",
        "print(\"Sorted list:\", numbers_list)"
      ],
      "metadata": {
        "id": "AI_-8VGKh7rA",
        "outputId": "496223a6-9c58-4598-b423-f105a28dd2d1",
        "colab": {
          "base_uri": "https://localhost:8080/"
        }
      },
      "execution_count": null,
      "outputs": [
        {
          "output_type": "stream",
          "name": "stdout",
          "text": [
            "Enter a series of space-separated integers: 5 2 8 3 6\n",
            "Sorted list: [2, 3, 5, 6, 8]\n"
          ]
        }
      ]
    },
    {
      "cell_type": "markdown",
      "source": [
        "-----------------------------------------------------------------------------\n",
        "\n",
        "Difference between Lists and Tuples:\n",
        "\n",
        "Lists are mutable, meaning their elements can be changed after creation, while tuples are immutable, meaning their elements cannot be changed after creation.\n",
        "Lists are represented by square brackets [ ], whereas tuples are represented by parentheses ( ).\n",
        "Lists have methods like append(), insert(), and remove() to modify the list, while tuples do not support such methods due to their immutability.\n",
        "Lists are typically used when the elements need to be modified or updated frequently, while tuples are used when the data is meant to be constant or unchangeable.\n",
        "\n",
        "-----------------------------------------------------------------------------\n"
      ],
      "metadata": {
        "id": "i3SZ_u9yl9aa"
      }
    },
    {
      "cell_type": "markdown",
      "source": [
        "4.\n",
        "Extend the previous Python program to include tuples. Now, in addition to creating a list of integers from user input, the program should also create a tuple of those integers and perform the following operations:\n",
        "\n",
        "  a. Input: Ask the user to enter a series of space-separated integers.\n",
        "\n",
        "  b. Convert Input: Convert the input string into a list of integers and a tuple of integers.\n",
        "\n",
        "  c. Sorting: Sort both the list and the tuple in ascending order.\n",
        "\n",
        "  d. Print Output: Print the sorted list and tuple.\n",
        "\n",
        "  example:\n",
        "  ```\n",
        "  Enter a series of space-separated integers: 5 2 8 1 9\n",
        "  \n",
        "  Sorted list: [1, 2, 5, 8, 9]\n",
        "  Sorted tuple: (1, 2, 5, 8, 9)\n",
        "  ```\n"
      ],
      "metadata": {
        "id": "s3dGdHFnmHGE"
      }
    },
    {
      "cell_type": "code",
      "source": [
        "# Task 4: Extending to Include Tuples\n",
        "\n",
        "# Reusing input from Task 3\n",
        "# Convert Input: Additionally converting the input string to a tuple of integers.\n",
        "numbers_tuple = tuple(numbers_list)\n",
        "\n",
        "# Sorting: The list is already sorted. Tuples cannot be sorted in place, but we can sort them while converting.\n",
        "# Sorted tuple is already created based on sorted list.\n",
        "\n",
        "# Print Output: Printing the sorted list and tuple.\n",
        "print(\"Sorted list:\", numbers_list)\n",
        "print(\"Sorted tuple:\", numbers_tuple)"
      ],
      "metadata": {
        "id": "5hm5uHjjl-wZ"
      },
      "execution_count": null,
      "outputs": []
    },
    {
      "cell_type": "markdown",
      "source": [
        "5.\n",
        "Extend the previous Python program to demonstrate the manipulation of lists using the append(), insert(), and remove() functions, and to emphasize the immutability of tuples.\n",
        "\n",
        "  a. Input: Ask the user to enter a series of space-separated integers.\n",
        "\n",
        "  b. Convert Input: Convert the input string into a list of integers and a tuple of integers.\n",
        "  \n",
        "  c. Manipulate List: Use the append(), insert(), and remove() functions to modify the list.\n",
        "  \n",
        "  d. Attempt to Modify Tuple: Try to modify the tuple using the same operations as the list.\n",
        "  \n",
        "  e. Print Output: Print the modified list and attempt to print the modified tuple.\n",
        "\n",
        "  example:\n",
        "  ```\n",
        "  Enter a series of space-separated integers: 5 2 8 1 9\n",
        "\n",
        "  Tuples are immutable and cannot be modified.\n",
        "  Modified list: [5, 2, 20, 1, 9, 10]\n",
        "  Tuple remains unchanged: (5, 2, 8, 1, 9)\n",
        "  ```"
      ],
      "metadata": {
        "id": "ys8cK-cdqIk7"
      }
    },
    {
      "cell_type": "code",
      "source": [
        "# Task 5: List Manipulation and Tuple Immutability\n",
        "\n",
        "# Manipulate List: Using append(), insert(), and remove() functions.\n",
        "numbers_list.append(10)  # Appending 10 to the list.\n",
        "numbers_list.insert(2, 20)  # Inserting 20 at index 2.\n",
        "if 8 in numbers_list:  # Ensuring 8 exists in the list before removing.\n",
        "    numbers_list.remove(8)  # Removing the first occurrence of 8.\n",
        "\n",
        "# Attempt to Modify Tuple: Demonstrating immutability.\n",
        "try:\n",
        "    numbers_tuple.append(10)\n",
        "except AttributeError as e:\n",
        "    print(\"Tuples are immutable and cannot be modified. Error:\", e)\n",
        "\n",
        "# Print Output: Printing the modified list and confirming tuple remains unchanged.\n",
        "print(\"Modified list:\", numbers_list)\n",
        "print(\"Tuple remains unchanged:\", numbers_tuple)\n"
      ],
      "metadata": {
        "id": "u8ATNzGWqT0H"
      },
      "execution_count": null,
      "outputs": []
    },
    {
      "cell_type": "markdown",
      "source": [
        "--------------------------------------------------------------------------------\n",
        "1. **Set**:\n",
        "A set in Python is a collection of unique elements that are unordered. This means that you cannot access elements by indices, and the elements are stored in an unordered manner. The main feature of a set is that each element in the set must be unique. Sets are useful when you want to perform set operations, such as mathematical set operations (e.g., union, difference, intersection).\n",
        "\n",
        "Example of creating a set:\n",
        "```python\n",
        "set = {1, 2, 3, 4, 5}  # Creating a set\n",
        "print(set)  # Displaying the set\n",
        "```\n",
        "\n",
        "2. **Dictionary**:\n",
        "A dictionary in Python is a collection of key-value pairs, where each key is unique. Dictionaries are unique in the sense that they allow us to associate specific values with specific keys, making it easy to retrieve values by referring to their corresponding keys. Dictionaries are very useful when you want to store data in the form of key-value pairs, such as dictionary definitions, test scores, survey results, etc.\n",
        "\n",
        "Example of creating a dictionary:\n",
        "```python\n",
        "dictionary = {\"key1\": \"value1\", \"key2\": \"value2\", \"key3\": \"value3\"}  # Creating a dictionary\n",
        "print(dictionary)  # Displaying the dictionary\n",
        "```\n",
        "It's important to remember that both in sets and dictionaries, keys (in the case of dictionaries) and elements (in the case of sets) must be hashable, meaning they must be immutable (e.g., numbers, strings, tuples), and they must have a defined hashing method.\n",
        "\n",
        "--------------------------------------------------------------------------------"
      ],
      "metadata": {
        "id": "IMGqb8VoxwOv"
      }
    },
    {
      "cell_type": "markdown",
      "source": [
        "6.\n",
        "Additionally, introduce sets and dictionaries and perform basic operations on them.\n",
        "\n",
        "  a. ...\n",
        "\n",
        "  b. ...\n",
        "\n",
        "  c. ...\n",
        "\n",
        "  d. ...\n",
        "\n",
        "  e. Set Operations: Perform union, intersection, and difference operations on the set.\n",
        "\n",
        "  f. Dictionary Operations: Print the dictionary, add a new key-value pair, and delete an existing key-value pair.\n",
        "\n",
        "  g. Print Output: Print the modified list, unchanged tuple, set operations results, and updated dictionary.\n",
        "\n",
        "  example:\n",
        "  ```\n",
        "  Enter a series of space-separated integers: 5 2 8 1 9\n",
        "\n",
        "  Tuples are immutable and cannot be modified.\n",
        "  Original Dictionary: {5: 25, 2: 4, 8: 64, 1: 1, 9: 81}\n",
        "  Modified list: [5, 2, 20, 1, 9, 10]\n",
        "  Tuple remains unchanged: (5, 2, 8, 1, 9)\n",
        "  Union of set: {1, 2, 5, 9, 10, 11, 12}\n",
        "  Intersection of set: {8, 5}\n",
        "  Difference of set: {9}\n",
        "  Updated Dictionary: {5: 25, 2: 4, 1: 1, 9: 81, 11: 121}\n",
        "\n",
        "  ```\n",
        "\n"
      ],
      "metadata": {
        "id": "PD4Fhykxx1w6"
      }
    },
    {
      "cell_type": "code",
      "source": [
        "# Assuming 'numbers_list' is already defined and manipulated from the previous tasks\n",
        "\n",
        "# Converting list to a set for unique elements\n",
        "numbers_set = set(numbers_list)\n",
        "\n",
        "# Creating a dictionary from the list where keys are the elements, and values are their squares\n",
        "numbers_dict = {num: num ** 2 for num in numbers_list}\n",
        "\n",
        "# Set Operations: Union, Intersection, Difference\n",
        "sample_set = {5, 10, 15}  # A sample set for demonstration\n",
        "set_union = numbers_set.union(sample_set)\n",
        "set_intersection = numbers_set.intersection(sample_set)\n",
        "set_difference = numbers_set.difference(sample_set)\n",
        "\n",
        "# Dictionary Operations\n",
        "print(\"Original Dictionary:\", numbers_dict)\n",
        "numbers_dict[11] = 121  # Adding a new key-value pair\n",
        "if 8 in numbers_dict:\n",
        "    del numbers_dict[8]  # Deleting an existing key-value pair, if exists\n",
        "\n",
        "# Print Output for Task 6\n",
        "print(\"Modified list:\", numbers_list)\n",
        "print(\"Tuple remains unchanged:\", numbers_tuple)\n",
        "print(\"Union of set:\", set_union)\n",
        "print(\"Intersection of set:\", set_intersection)\n",
        "print(\"Difference of set:\", set_difference)\n",
        "print(\"Updated Dictionary:\", numbers_dict)\n"
      ],
      "metadata": {
        "id": "AwRmtngJzAZI"
      },
      "execution_count": null,
      "outputs": []
    },
    {
      "cell_type": "markdown",
      "source": [
        "7. **Built-in Types and Type Conversion**\n",
        "\n",
        "  Extend the previous Python program to demonstrate the use of built-in types and type conversion. Perform the following operations:\n",
        "\n",
        "  a. ...\n",
        "\n",
        "  b. ...\n",
        "\n",
        "  c. ...\n",
        "\n",
        "  d. ...\n",
        "\n",
        "  e. ...\n",
        "\n",
        "  f. ...\n",
        "\n",
        "  g. Type Conversion: Convert the list to a tuple, set, and dictionary. Convert the tuple to a list, set, and dictionary. Convert the set to a list, tuple, and dictionary. Convert the dictionary to a list, tuple, and set.\n",
        "\n",
        "  h. Print Output: Print the results of the type conversion operations.\n",
        "\n",
        "  example:\n",
        "  ```\n",
        "  Enter a series of space-separated integers: 5 2 8 1 9\n",
        "\n",
        "  Tuples are immutable and cannot be modified.\n",
        "  Original Dictionary: {5: 25, 2: 4, 8: 64, 1: 1, 9: 81}\n",
        "  List to Tuple: (5, 2, 20, 1, 9, 10)\n",
        "  List to Set: {1, 2, 5, 9, 10, 20}\n",
        "  List to Dictionary: {5: 25, 2: 4, 20: 400, 1: 1, 9: 81, 10: 100}\n",
        "  Tuple to List: [5, 2, 8, 1, 9]\n",
        "  Tuple to Set: {1, 2, 5, 8, 9}\n",
        "  Tuple to Dictionary: {5: 25, 2: 4, 8: 64, 1: 1, 9: 81}\n",
        "  Set to List: [1, 2, 5, 9, 10, 20]\n",
        "  Set to Tuple: (1, 2, 5, 9, 10, 20)\n",
        "  Set to Dictionary: {1: 1, 2: 4, 5: 25, 9: 81, 10: 100, 20: 400}\n",
        "  Dictionary to List: [5, 2, 20, 1, 9, 10, 11]\n",
        "  Dictionary to Tuple: (5, 2, 20, 1, 9, 10, 11)\n",
        "  Dictionary to Set: {1, 2, 5, 9, 10, 11, 20}\n",
        "```"
      ],
      "metadata": {
        "id": "N0xlv8oD2aXa"
      }
    },
    {
      "cell_type": "code",
      "source": [
        "# Type Conversion Demonstrations\n",
        "\n",
        "# Convert list to tuple, set, and \"dictionary\"\n",
        "list_to_tuple = tuple(numbers_list)\n",
        "list_to_set = set(numbers_list)\n",
        "list_to_dict = {num: num ** 2 for num in numbers_list}  # Same as 'numbers_dict' creation\n",
        "\n",
        "# Convert tuple to list, set, and \"dictionary\"\n",
        "tuple_to_list = list(numbers_tuple)\n",
        "tuple_to_set = set(numbers_tuple)\n",
        "tuple_to_dict = {num: num ** 2 for num in numbers_tuple}\n",
        "\n",
        "# Convert set to list, tuple, and \"dictionary\"\n",
        "# Assuming 'numbers_set' is already defined\n",
        "set_to_list = list(numbers_set)\n",
        "set_to_tuple = tuple(numbers_set)\n",
        "set_to_dict = {num: num ** 2 for num in numbers_set}\n",
        "\n",
        "# Convert dictionary to list, tuple, and set (keys only)\n",
        "dict_to_list = list(numbers_dict.keys())\n",
        "dict_to_tuple = tuple(numbers_dict.keys())\n",
        "dict_to_set = set(numbers_dict.keys())\n",
        "\n",
        "# Print Output for Task 7\n",
        "print(\"List to Tuple:\", list_to_tuple)\n",
        "print(\"List to Set:\", list_to_set)\n",
        "print(\"List to Dictionary:\", list_to_dict)\n",
        "print(\"Tuple to List:\", tuple_to_list)\n",
        "print(\"Tuple to Set:\", tuple_to_set)\n",
        "print(\"Tuple to Dictionary:\", tuple_to_dict)\n",
        "print(\"Set to List:\", set_to_list)\n",
        "print(\"Set to Tuple:\", set_to_tuple)\n",
        "print(\"Set to Dictionary:\", set_to_dict)\n",
        "print(\"Dictionary to List:\", dict_to_list)\n",
        "print(\"Dictionary to Tuple:\", dict_to_tuple)\n",
        "print(\"Dictionary to Set:\", dict_to_set)\n"
      ],
      "metadata": {
        "id": "-NzD4x_n31Rv"
      },
      "execution_count": null,
      "outputs": []
    },
    {
      "cell_type": "markdown",
      "source": [
        "8.\n",
        "Extend the previous Python program to write the output to a file and perform operations on that file.\n",
        "\n",
        "  a. ...\n",
        "\n",
        "  b. ...\n",
        "\n",
        "  c. ...\n",
        "\n",
        "  d. ...\n",
        "\n",
        "  e. ...\n",
        "\n",
        "  f. ...\n",
        "\n",
        "  g. ...\n",
        "\n",
        "  h. Write Output to File: Write all the results (original inputs, modified data structures, type conversion results) to a file.\n",
        "\n",
        "  i. Perform Operations on File: Open the file, read its content, and perform some operations like counting the number of lines, finding specific data, etc.\n",
        "\n",
        "  j. Modify File Content: Modify the content of the file by, for example, changing specific lines or adding new lines."
      ],
      "metadata": {
        "id": "KVn_MxPh6gNz"
      }
    },
    {
      "cell_type": "code",
      "source": [
        "# Writing Output to File\n",
        "with open(\"output.txt\", \"w\") as file:\n",
        "    file.write(f\"Modified list: {numbers_list}\\n\")\n",
        "    file.write(f\"Tuple remains unchanged: {numbers_tuple}\\n\")\n",
        "    file.write(f\"Union of set: {set_union}\\n\")\n",
        "    file.write(f\"Intersection of set: {set_intersection}\\n\")\n",
        "    file.write(f\"Difference of set: {set_difference}\\n\")\n",
        "    file.write(f\"Updated Dictionary: {numbers_dict}\\n\")\n",
        "    file.write(f\"List to Tuple: {list_to_tuple}\\n\")\n",
        "    # Continue writing all conversion results...\n",
        "\n",
        "# Reading and Modifying the File\n",
        "with open(\"output.txt\", \"r\") as file:\n",
        "    lines = file.readlines()\n",
        "\n",
        "# Example operation: Count the number of lines\n",
        "number_of_lines = len(lines)\n",
        "print(\"Number of lines in the file:\", number_of_lines)\n",
        "\n",
        "# Adding a new line as an example of modification\n",
        "lines.append(\"This is a new line added to the file.\\n\")\n",
        "\n",
        "# Writing modified content back to the file\n",
        "with open(\"output.txt\", \"w\") as file:\n",
        "    file.writelines(lines)\n"
      ],
      "metadata": {
        "id": "d54la3il7LNS"
      },
      "execution_count": null,
      "outputs": []
    },
    {
      "cell_type": "markdown",
      "source": [
        "--------------------------------------------------------------------------------\n",
        "**Control Statements:**\n",
        "Control statements are used in programming to alter the flow of execution based on certain conditions or criteria. In Python, commonly used control statements include:\n",
        "\n",
        "`if, elif, else:` These statements are used for conditional execution. They allow the program to execute different blocks of code based on specified conditions.\n",
        "\n",
        "`for loop:` Used for iterating over a sequence (such as lists, tuples, strings, etc.) or any iterable object. It allows you to execute a block of code repeatedly for each item in the sequence.\n",
        "\n",
        "`while loop:` Used for executing a block of code repeatedly as long as a specified condition is true. It keeps iterating until the condition becomes false.\n",
        "\n",
        "\n",
        "**Loops:**\n",
        "Loops are used for executing a block of code repeatedly. In Python, there are two main types of loops:\n",
        "\n",
        "`for loop: `As mentioned earlier, the for loop iterates over a sequence or any iterable object.\n",
        "\n",
        "`while loop:` This loop executes a block of code as long as a specified condition is true. It continues iterating until the condition becomes false.\n",
        "\n",
        "**Other Statements:**\n",
        "This category typically includes other types of statements that don't fall directly under control statements or loops. It can include various types of statements used for different purposes in Python programming, such as:\n",
        "\n",
        "`Assignment statements:` Assigning values to variables.\n",
        "\n",
        "`Function calls:` Invoking functions to perform specific tasks.\n",
        "\n",
        "`Import statements:` Importing modules or packages to use their functionality in the current script or program.\n",
        "\n",
        "`Exception handling statements: `Statements used for handling exceptions (errors) that may occur during the execution of a program, such as try, except, finally, etc.\n",
        "\n",
        "`With statements: `Used for resource management, especially for working with files, to ensure that certain resources are properly closed or released after use.\n",
        "\n",
        "These are fundamental constructs in Python programming that enable you to control the flow of your program, repeat tasks efficiently, and execute various types of statements to achieve desired functionality.\n",
        "\n",
        "-------------------------------------------------------------------------------"
      ],
      "metadata": {
        "id": "kDx3mxAgD2L7"
      }
    },
    {
      "cell_type": "markdown",
      "source": [
        "9.  Utilizing the Largest Integer from output.txt\n",
        "\n",
        "  Task Description:\n",
        "\n",
        "  Transform the previous task to utilize the largest integer from the output file 'output.txt' instead of asking the user for it.\n",
        "\n",
        "  1. Read the largest integer from the 'output.txt' file.\n",
        "  2. Generate a list of all prime numbers up to the largest integer.\n",
        "  3. Print the list of prime numbers.\n",
        "  4. Calculate the sum of all prime numbers in the list.\n",
        "  5. Determine the largest and smallest prime numbers in the list.\n",
        "  6. Check if the largest integer itself is prime and print the result.\n",
        "  7. Write the list of prime numbers along with the sum, largest, and smallest prime numbers to a file 'prime_numbers.txt'.\n",
        "  8. Handle the scenario where the largest integer cannot be found in the file.\n",
        "\n",
        "  Example:\n",
        "\n",
        "  If the 'output.txt' file contains:\n",
        "  Largest prime number: 20\n",
        "\n",
        "  The program will generate the list of prime numbers up to 20, perform calculations, and write the results to 'prime_numbers.txt'.\n"
      ],
      "metadata": {
        "id": "pWC3IYevHysh"
      }
    },
    {
      "cell_type": "markdown",
      "source": [],
      "metadata": {
        "id": "A3BK7Dk5RPwx"
      }
    },
    {
      "cell_type": "code",
      "source": [
        "def is_prime(n):\n",
        "    if n <= 1:\n",
        "        return False\n",
        "    for i in range(2, int(n**0.5) + 1):\n",
        "        if n % i == 0:\n",
        "            return False\n",
        "    return True\n",
        "\n",
        "# Assuming we read the largest integer as 20\n",
        "largest_integer = 20\n",
        "prime_numbers = [i for i in range(2, largest_integer + 1) if is_prime(i)]\n",
        "\n",
        "# Writing prime numbers to a file\n",
        "with open(\"prime_numbers.txt\", \"w\") as file:\n",
        "    file.write(\"List of prime numbers: \" + \", \".join(map(str, prime_numbers)) + \"\\n\")\n"
      ],
      "metadata": {
        "id": "-Lz65OTiM7ds"
      },
      "execution_count": null,
      "outputs": []
    },
    {
      "cell_type": "markdown",
      "source": [
        "10.\n",
        "In the final main.ipynb file, leave the results from task 8 and 9, commit and push"
      ],
      "metadata": {
        "id": "V5bxEjZFNCAA"
      }
    }
  ]
}